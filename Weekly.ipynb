version https://git-lfs.github.com/spec/v1
oid sha256:ec722a43898cb30fc8b5fd8c494277cd1c6e3532f5c321366bdfe25fe190f7e1
size 760630
