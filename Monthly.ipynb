version https://git-lfs.github.com/spec/v1
oid sha256:d9193262e67865982070ae03a7d3f8c0ef799310f3faaa03086959b62d4b3712
size 719206
